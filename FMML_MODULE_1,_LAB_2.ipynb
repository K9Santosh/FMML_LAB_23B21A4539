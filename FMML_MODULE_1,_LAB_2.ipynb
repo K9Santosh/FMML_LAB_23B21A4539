{
  "cells": [
    {
      "cell_type": "markdown",
      "metadata": {
        "id": "view-in-github",
        "colab_type": "text"
      },
      "source": [
        "<a href=\"https://colab.research.google.com/github/K9Santosh/FMML_LAB_23B21A4539/blob/main/FMML_MODULE_1%2C_LAB_2.ipynb\" target=\"_parent\"><img src=\"https://colab.research.google.com/assets/colab-badge.svg\" alt=\"Open In Colab\"/></a>"
      ]
    },
    {
      "cell_type": "markdown",
      "metadata": {
        "id": "3Eu9VZbF01eq"
      },
      "source": [
        "# Machine Learning terms and metrics\n",
        "\n",
        "FMML Module 1, Lab 2\n",
        "\n",
        "In this lab, we will show a part of the ML pipeline by using the California Housing dataset. There are 20640 samples, each with 8 attributes like income of the block, age of the houses per district etc. The task is to predict the cost of the houses per district. We will use the scikit-learn library to load the data and perform some basic data preprocessing and model training. We will also show how to evaluate the model using some common metrics, split the data into training and testing sets, and use cross-validation to get a better estimate of the model's performance."
      ]
    },
    {
      "cell_type": "code",
      "execution_count": null,
      "metadata": {
        "id": "8qBvyEem0vLi"
      },
      "outputs": [],
      "source": [
        "import numpy as np\n",
        "from sklearn import datasets\n",
        "import matplotlib.pyplot as plt\n",
        "\n",
        "rng = np.random.default_rng(seed=42)"
      ]
    },
    {
      "cell_type": "code",
      "execution_count": null,
      "metadata": {
        "colab": {
          "base_uri": "https://localhost:8080/"
        },
        "id": "8LpqjN991GGJ",
        "outputId": "6f379d6f-dc2c-427a-93f7-587d7b909a5a"
      },
      "outputs": [
        {
          "output_type": "stream",
          "name": "stdout",
          "text": [
            ".. _california_housing_dataset:\n",
            "\n",
            "California Housing dataset\n",
            "--------------------------\n",
            "\n",
            "**Data Set Characteristics:**\n",
            "\n",
            "    :Number of Instances: 20640\n",
            "\n",
            "    :Number of Attributes: 8 numeric, predictive attributes and the target\n",
            "\n",
            "    :Attribute Information:\n",
            "        - MedInc        median income in block group\n",
            "        - HouseAge      median house age in block group\n",
            "        - AveRooms      average number of rooms per household\n",
            "        - AveBedrms     average number of bedrooms per household\n",
            "        - Population    block group population\n",
            "        - AveOccup      average number of household members\n",
            "        - Latitude      block group latitude\n",
            "        - Longitude     block group longitude\n",
            "\n",
            "    :Missing Attribute Values: None\n",
            "\n",
            "This dataset was obtained from the StatLib repository.\n",
            "https://www.dcc.fc.up.pt/~ltorgo/Regression/cal_housing.html\n",
            "\n",
            "The target variable is the median house value for California districts,\n",
            "expressed in hundreds of thousands of dollars ($100,000).\n",
            "\n",
            "This dataset was derived from the 1990 U.S. census, using one row per census\n",
            "block group. A block group is the smallest geographical unit for which the U.S.\n",
            "Census Bureau publishes sample data (a block group typically has a population\n",
            "of 600 to 3,000 people).\n",
            "\n",
            "A household is a group of people residing within a home. Since the average\n",
            "number of rooms and bedrooms in this dataset are provided per household, these\n",
            "columns may take surprisingly large values for block groups with few households\n",
            "and many empty houses, such as vacation resorts.\n",
            "\n",
            "It can be downloaded/loaded using the\n",
            ":func:`sklearn.datasets.fetch_california_housing` function.\n",
            "\n",
            ".. topic:: References\n",
            "\n",
            "    - Pace, R. Kelley and Ronald Barry, Sparse Spatial Autoregressions,\n",
            "      Statistics and Probability Letters, 33 (1997) 291-297\n",
            "\n"
          ]
        }
      ],
      "source": [
        "dataset = datasets.fetch_california_housing()\n",
        "# Dataset description\n",
        "print(dataset.DESCR)"
      ]
    },
    {
      "cell_type": "markdown",
      "metadata": {
        "id": "PCe1VNftevgE"
      },
      "source": [
        "Given below are the list of target values. These correspond to the house value derived considering all the 8 input features and are continuous values. We should use regression models to predict these values but we will start with a simple classification model for the sake of simplicity. We need to just round off the values to the nearest integer and use a classification model to predict the house value."
      ]
    },
    {
      "cell_type": "code",
      "execution_count": null,
      "metadata": {
        "colab": {
          "base_uri": "https://localhost:8080/"
        },
        "id": "F8K0ggBOevgE",
        "outputId": "f71dd070-d8a0-41e1-b595-107fec9f47e8"
      },
      "outputs": [
        {
          "output_type": "stream",
          "name": "stdout",
          "text": [
            "Orignal target values: [4.526 3.585 3.521 ... 0.923 0.847 0.894]\n",
            "Target values after conversion: [4 3 3 ... 0 0 0]\n",
            "Input variables shape: (20640, 8)\n",
            "Output variables shape: (20640,)\n"
          ]
        }
      ],
      "source": [
        "print(\"Orignal target values:\", dataset.target)\n",
        "\n",
        "dataset.target = dataset.target.astype(int)\n",
        "\n",
        "print(\"Target values after conversion:\", dataset.target)\n",
        "print(\"Input variables shape:\", dataset.data.shape)\n",
        "print(\"Output variables shape:\", dataset.target.shape)"
      ]
    },
    {
      "cell_type": "markdown",
      "metadata": {
        "id": "iNx4174W5xRg"
      },
      "source": [
        "The simplest model to use for classification is the K-Nearest Neighbors model. We will use this model to predict the house value with a K value of 1. We will also use the accuracy metric to evaluate the model."
      ]
    },
    {
      "cell_type": "code",
      "execution_count": null,
      "metadata": {
        "id": "07zpydQj1hIQ"
      },
      "outputs": [],
      "source": [
        "def NN1(traindata, trainlabel, query):\n",
        "    \"\"\"\n",
        "    This function takes in the training data, training labels and a query point\n",
        "    and returns the predicted label for the query point using the nearest neighbour algorithm\n",
        "\n",
        "    traindata: numpy array of shape (n,d) where n is the number of samples and d is the number of features\n",
        "    trainlabel: numpy array of shape (n,) where n is the number of samples\n",
        "    query: numpy array of shape (d,) where d is the number of features\n",
        "\n",
        "    returns: the predicted label for the query point which is the label of the training data which is closest to the query point\n",
        "    \"\"\"\n",
        "    diff = (\n",
        "        traindata - query\n",
        "    )  # find the difference between features. Numpy automatically takes care of the size here\n",
        "    sq = diff * diff  # square the differences\n",
        "    dist = sq.sum(1)  # add up the squares\n",
        "    label = trainlabel[np.argmin(dist)]\n",
        "    return label\n",
        "\n",
        "\n",
        "def NN(traindata, trainlabel, testdata):\n",
        "    \"\"\"\n",
        "    This function takes in the training data, training labels and test data\n",
        "    and returns the predicted labels for the test data using the nearest neighbour algorithm\n",
        "\n",
        "    traindata: numpy array of shape (n,d) where n is the number of samples and d is the number of features\n",
        "    trainlabel: numpy array of shape (n,) where n is the number of samples\n",
        "    testdata: numpy array of shape (m,d) where m is the number of test samples and d is the number of features\n",
        "\n",
        "    returns: the predicted labels for the test data which is the label of the training data which is closest to each test point\n",
        "    \"\"\"\n",
        "    predlabel = np.array([NN1(traindata, trainlabel, i) for i in testdata])\n",
        "    return predlabel"
      ]
    },
    {
      "cell_type": "markdown",
      "metadata": {
        "id": "03JktkfIGaje"
      },
      "source": [
        "We will also define a 'random classifier', which randomly allots labels to each sample"
      ]
    },
    {
      "cell_type": "code",
      "execution_count": null,
      "metadata": {
        "id": "fogWAtjyGhAH"
      },
      "outputs": [],
      "source": [
        "def RandomClassifier(traindata, trainlabel, testdata):\n",
        "    \"\"\"\n",
        "    This function takes in the training data, training labels and test data\n",
        "    and returns the predicted labels for the test data using the random classifier algorithm\n",
        "\n",
        "    In reality, we don't need these arguments but we are passing them to keep the function signature consistent with other classifiers\n",
        "\n",
        "    traindata: numpy array of shape (n,d) where n is the number of samples and d is the number of features\n",
        "    trainlabel: numpy array of shape (n,) where n is the number of samples\n",
        "    testdata: numpy array of shape (m,d) where m is the number of test samples and d is the number of features\n",
        "\n",
        "    returns: the predicted labels for the test data which is a random label from the training data\n",
        "    \"\"\"\n",
        "\n",
        "    classes = np.unique(trainlabel)\n",
        "    rints = rng.integers(low=0, high=len(classes), size=len(testdata))\n",
        "    predlabel = classes[rints]\n",
        "    return predlabel"
      ]
    },
    {
      "cell_type": "markdown",
      "metadata": {
        "id": "1Hjf1KHs7fU5"
      },
      "source": [
        "We need a metric to evaluate the performance of the model. Let us define a metric 'Accuracy' to see how good our learning algorithm is. Accuracy is the ratio of the number of correctly classified samples to the total number of samples. The higher the accuracy, the better the algorithm. We will use the accuracy metric to evaluate and compate the performance of the K-Nearest Neighbors model and the random classifier."
      ]
    },
    {
      "cell_type": "code",
      "execution_count": null,
      "metadata": {
        "id": "ouuCqWU07bz-"
      },
      "outputs": [],
      "source": [
        "def Accuracy(gtlabel, predlabel):\n",
        "    \"\"\"\n",
        "    This function takes in the ground-truth labels and predicted labels\n",
        "    and returns the accuracy of the classifier\n",
        "\n",
        "    gtlabel: numpy array of shape (n,) where n is the number of samples\n",
        "    predlabel: numpy array of shape (n,) where n is the number of samples\n",
        "\n",
        "    returns: the accuracy of the classifier which is the number of correct predictions divided by the total number of predictions\n",
        "    \"\"\"\n",
        "    assert len(gtlabel) == len(\n",
        "        predlabel\n",
        "    ), \"Length of the ground-truth labels and predicted labels should be the same\"\n",
        "    correct = (\n",
        "        gtlabel == predlabel\n",
        "    ).sum()  # count the number of times the groundtruth label is equal to the predicted label.\n",
        "    return correct / len(gtlabel)"
      ]
    },
    {
      "cell_type": "markdown",
      "metadata": {
        "id": "4vJFwBFa9Klw"
      },
      "source": [
        "Let us make a function to split the dataset with the desired probability. We will use this function to split the dataset into training and testing sets. We will use the training set to train the model and the testing set to evaluate the model."
      ]
    },
    {
      "cell_type": "code",
      "execution_count": null,
      "metadata": {
        "id": "Ko0VzpSM2Tdi"
      },
      "outputs": [],
      "source": [
        "def split(data, label, percent):\n",
        "    # generate a random number for each sample\n",
        "    rnd = rng.random(len(label))\n",
        "    split1 = rnd < percent\n",
        "    split2 = rnd >= percent\n",
        "\n",
        "    split1data = data[split1, :]\n",
        "    split1label = label[split1]\n",
        "    split2data = data[split2, :]\n",
        "    split2label = label[split2]\n",
        "    return split1data, split1label, split2data, split2label"
      ]
    },
    {
      "cell_type": "markdown",
      "metadata": {
        "id": "AcK3LEAJ_LGC"
      },
      "source": [
        "We will reserve 20% of our dataset as the test set. We will not change this portion throughout our experiments"
      ]
    },
    {
      "cell_type": "code",
      "execution_count": null,
      "metadata": {
        "colab": {
          "base_uri": "https://localhost:8080/"
        },
        "id": "bBZkHBLJ1iU-",
        "outputId": "73ffc0bd-354d-4051-f17a-c6adebdd58fe"
      },
      "outputs": [
        {
          "output_type": "stream",
          "name": "stdout",
          "text": [
            "Number of test samples: 4144\n",
            "Number of train samples: 16496\n",
            "Percent of test data: 20.07751937984496 %\n"
          ]
        }
      ],
      "source": [
        "testdata, testlabel, alltraindata, alltrainlabel = split(\n",
        "    dataset.data, dataset.target, 20 / 100\n",
        ")\n",
        "print(\"Number of test samples:\", len(testlabel))\n",
        "print(\"Number of train samples:\", len(alltrainlabel))\n",
        "print(\"Percent of test data:\", len(testlabel) * 100 / len(dataset.target), \"%\")"
      ]
    },
    {
      "cell_type": "markdown",
      "metadata": {
        "id": "a6Ss0Z6IAGNV"
      },
      "source": [
        "## Experiments with splits\n",
        "\n",
        "Let us reserve some of our train data as a validation set"
      ]
    },
    {
      "cell_type": "code",
      "execution_count": null,
      "metadata": {
        "id": "WFew2iry_7W7"
      },
      "outputs": [],
      "source": [
        "traindata, trainlabel, valdata, vallabel = split(\n",
        "    alltraindata, alltrainlabel, 75 / 100)"
      ]
    },
    {
      "cell_type": "markdown",
      "metadata": {
        "id": "60hiu4clFN1i"
      },
      "source": [
        "What is the accuracy of our classifiers on the train dataset?"
      ]
    },
    {
      "cell_type": "code",
      "execution_count": null,
      "metadata": {
        "colab": {
          "base_uri": "https://localhost:8080/"
        },
        "id": "DBlZDTHUFTZx",
        "outputId": "2d0ed616-7ece-4d8f-8f8d-cb1eb48f7385"
      },
      "outputs": [
        {
          "output_type": "stream",
          "name": "stdout",
          "text": [
            "Training accuracy using nearest neighbour algorithm: 100.0 %\n",
            "Training accuracy using random classifier:  16.4375808538163 %\n"
          ]
        }
      ],
      "source": [
        "trainpred = NN(traindata, trainlabel, traindata)\n",
        "trainAccuracy = Accuracy(trainlabel, trainpred)\n",
        "print(\"Training accuracy using nearest neighbour algorithm:\", trainAccuracy*100, \"%\")\n",
        "\n",
        "trainpred = RandomClassifier(traindata, trainlabel, traindata)\n",
        "trainAccuracy = Accuracy(trainlabel, trainpred)\n",
        "print(\"Training accuracy using random classifier: \", trainAccuracy*100, \"%\")"
      ]
    },
    {
      "cell_type": "markdown",
      "metadata": {
        "id": "7h08-9gJDtSy"
      },
      "source": [
        "For nearest neighbour, the train accuracy is always 1. The accuracy of the random classifier is close to 1/(number of classes) which is 0.1666 in our case. This is because the random classifier randomly assigns a label to each sample and the probability of assigning the correct label is 1/(number of classes). Let us predict the labels for our validation set and get the accuracy. This accuracy is a good estimate of the accuracy of our model on unseen data."
      ]
    },
    {
      "cell_type": "code",
      "execution_count": null,
      "metadata": {
        "colab": {
          "base_uri": "https://localhost:8080/"
        },
        "id": "4h7bXoW_2H3v",
        "outputId": "ab09a4be-1b0e-4db2-ef67-a4b5f41c48fe"
      },
      "outputs": [
        {
          "output_type": "stream",
          "name": "stdout",
          "text": [
            "Validation accuracy using nearest neighbour algorithm: 34.10852713178294 %\n",
            "Validation accuracy using random classifier: 16.884689922480618 %\n"
          ]
        }
      ],
      "source": [
        "valpred = NN(traindata, trainlabel, valdata)\n",
        "valAccuracy = Accuracy(vallabel, valpred)\n",
        "print(\"Validation accuracy using nearest neighbour algorithm:\", valAccuracy*100, \"%\")\n",
        "\n",
        "\n",
        "valpred = RandomClassifier(traindata, trainlabel, valdata)\n",
        "valAccuracy = Accuracy(vallabel, valpred)\n",
        "print(\"Validation accuracy using random classifier:\", valAccuracy*100, \"%\")"
      ]
    },
    {
      "cell_type": "markdown",
      "metadata": {
        "id": "py9bLguFEjfg"
      },
      "source": [
        "Validation accuracy of nearest neighbour is considerably less than its train accuracy while the validation accuracy of random classifier is the same. However, the validation accuracy of nearest neighbour is twice that of the random classifier. Now let us try another random split and check the validation accuracy. We will see that the validation accuracy changes with the split. This is because the validation set is small and the accuracy is highly dependent on the samples in the validation set. We can get a better estimate of the accuracy by using cross-validation."
      ]
    },
    {
      "cell_type": "code",
      "execution_count": null,
      "metadata": {
        "colab": {
          "base_uri": "https://localhost:8080/"
        },
        "id": "ujm3cyYzEntE",
        "outputId": "8e5506e9-474c-4fd6-d7a6-b14aa1b8b8d1"
      },
      "outputs": [
        {
          "output_type": "stream",
          "name": "stdout",
          "text": [
            "Validation accuracy using nearest neighbour algorithm: 34.048257372654156 %\n"
          ]
        }
      ],
      "source": [
        "traindata, trainlabel, valdata, vallabel = split(\n",
        "    alltraindata, alltrainlabel, 75 / 100)\n",
        "valpred = NN(traindata, trainlabel, valdata)\n",
        "valAccuracy = Accuracy(vallabel, valpred)\n",
        "print(\"Validation accuracy using nearest neighbour algorithm:\", valAccuracy*100, \"%\")"
      ]
    },
    {
      "cell_type": "markdown",
      "metadata": {
        "id": "oSOx7U83EKie"
      },
      "source": [
        "You can run the above cell multiple times to try with different random splits.\n",
        "We notice that the accuracy is different for each run, but close together.\n",
        "\n",
        "Now let us compare it with the accuracy we get on the test dataset."
      ]
    },
    {
      "cell_type": "code",
      "execution_count": null,
      "metadata": {
        "colab": {
          "base_uri": "https://localhost:8080/"
        },
        "id": "PNEZ5ToYBEDW",
        "outputId": "2487fee9-0efc-4ce9-8b76-c8fd90b0c94a"
      },
      "outputs": [
        {
          "output_type": "stream",
          "name": "stdout",
          "text": [
            "Test accuracy: 34.91795366795367 %\n"
          ]
        }
      ],
      "source": [
        "testpred = NN(alltraindata, alltrainlabel, testdata)\n",
        "testAccuracy = Accuracy(testlabel, testpred)\n",
        "\n",
        "print(\"Test accuracy:\", testAccuracy*100, \"%\")"
      ]
    },
    {
      "cell_type": "markdown",
      "metadata": {
        "id": "w3dGD531K3gH"
      },
      "source": [
        "### Try it out for yourself and answer:\n",
        "1. How is the accuracy of the validation set affected if we increase the percentage of validation set? What happens when we reduce it?\n",
        "2. How does the size of the train and validation set affect how well we can predict the accuracy on the test set using the validation set?\n",
        "3. What do you think is a good percentage to reserve for the validation set so that thest two factors are balanced?\n",
        "\n",
        "Answer for both nearest neighbour and random classifier. You can note down the values for your experiments and plot a graph using  <a href=https://matplotlib.org/stable/gallery/lines_bars_and_markers/step_demo.html#sphx-glr-gallery-lines-bars-and-markers-step-demo-py>plt.plot<href>. Check also for extreme values for splits, like 99.9% or 0.1%"
      ]
    },
    {
      "cell_type": "markdown",
      "metadata": {
        "id": "M9zvdYY6evgI"
      },
      "source": [
        "> Exercise: Try to implement a 3 nearest neighbour classifier and compare the accuracy of the 1 nearest neighbour classifier and the 3 nearest neighbour classifier on the test dataset. You can use the KNeighborsClassifier class from the scikit-learn library to implement the K-Nearest Neighbors model. You can set the number of neighbors using the n_neighbors parameter. You can also use the accuracy_score function from the scikit-learn library to calculate the accuracy of the model."
      ]
    },
    {
      "cell_type": "markdown",
      "metadata": {
        "id": "PnYvkAZLQY7h"
      },
      "source": [
        "## Multiple Splits\n",
        "\n",
        "One way to get more accurate estimates for the test accuracy is by using <b>cross-validation</b>. Here, we will try a simple version, where we do multiple train/val splits and take the average of validation accuracies as the test accuracy estimation. Here is a function for doing this. Note that this function will take a long time to execute. You can reduce the number of splits to make it faster."
      ]
    },
    {
      "cell_type": "code",
      "execution_count": null,
      "metadata": {
        "id": "E4nGCUQXBTzo"
      },
      "outputs": [],
      "source": [
        "def AverageAccuracy(alldata, alllabel, splitpercent, iterations, classifier=NN):\n",
        "    \"\"\"\n",
        "    This function takes in the data, labels, split percentage, number of iterations and classifier function\n",
        "    and returns the average accuracy of the classifier\n",
        "\n",
        "    alldata: numpy array of shape (n,d) where n is the number of samples and d is the number of features\n",
        "    alllabel: numpy array of shape (n,) where n is the number of samples\n",
        "    splitpercent: float which is the percentage of data to be used for training\n",
        "    iterations: int which is the number of iterations to run the classifier\n",
        "    classifier: function which is the classifier function to be used\n",
        "\n",
        "    returns: the average accuracy of the classifier\n",
        "    \"\"\"\n",
        "    accuracy = 0\n",
        "    for ii in range(iterations):\n",
        "        traindata, trainlabel, valdata, vallabel = split(\n",
        "            alldata, alllabel, splitpercent\n",
        "        )\n",
        "        valpred = classifier(traindata, trainlabel, valdata)\n",
        "        accuracy += Accuracy(vallabel, valpred)\n",
        "    return accuracy / iterations  # average of all accuracies"
      ]
    },
    {
      "cell_type": "code",
      "execution_count": null,
      "metadata": {
        "colab": {
          "base_uri": "https://localhost:8080/"
        },
        "id": "H3qtNar7Bbik",
        "outputId": "5a5a53ec-beea-4f7f-cefc-79f74cceb1bd"
      },
      "outputs": [
        {
          "output_type": "stream",
          "name": "stdout",
          "text": [
            "Average validation accuracy: 33.58463539517022 %\n",
            "Test accuracy: 34.91795366795367 %\n"
          ]
        }
      ],
      "source": [
        "avg_acc = AverageAccuracy(alltraindata, alltrainlabel, 75 / 100, 10, classifier=NN)\n",
        "print(\"Average validation accuracy:\", avg_acc*100, \"%\")\n",
        "testpred = NN(alltraindata, alltrainlabel, testdata)\n",
        "\n",
        "print(\"Test accuracy:\", Accuracy(testlabel, testpred)*100, \"%\")"
      ]
    },
    {
      "cell_type": "markdown",
      "metadata": {
        "id": "33GIn4x5VH-d"
      },
      "source": [
        "This is a very simple way of doing cross-validation. There are many well-known algorithms for cross-validation, like k-fold cross-validation, leave-one-out etc. This will be covered in detail in a later module. For more information about cross-validation, check <a href=https://en.wikipedia.org/wiki/Cross-validation_(statistics)>Cross-validatioin (Wikipedia)</a>\n",
        "\n",
        "### Questions\n",
        "1. Does averaging the validation accuracy across multiple splits give more consistent results?\n",
        "2. Does it give more accurate estimate of test accuracy?\n",
        "3. What is the effect of the number of iterations on the estimate? Do we get a better estimate with higher iterations?\n",
        "4. Consider the results you got for the previous questions. Can we deal with a very small train dataset or validation dataset by increasing the iterations?\n"
      ]
    },
    {
      "cell_type": "markdown",
      "source": [
        "1A.\n",
        "Yes, averaging the validation accuracy across multiple splits generally gives more consistent and reliable results. This is because using multiple splits, as in **cross-validation**, helps account for variability in the data and reduces the likelihood of the model overfitting or underfitting to a particular train-test split. Here's why:\n",
        "\n",
        "### 1. **Reduces Variability**\n",
        "   When you train and validate a model on a single train-test split, the results might depend on the specific data points in that split. Some splits might contain easier or harder examples, leading to skewed performance results. By using multiple splits (such as in k-fold cross-validation), you smooth out these irregularities by ensuring the model is tested on various portions of the dataset.\n",
        "\n",
        "### 2. **Provides a More Robust Estimate**\n",
        "   Averaging the validation accuracy over several splits gives a better estimate of the model's generalization performance on unseen data. This way, the reported performance is less influenced by any particular data split.\n",
        "\n",
        "### 3. **Mitigates Overfitting Risk**\n",
        "   Training and evaluating a model on a single split can lead to overfitting if the model performs well on that split but poorly on others. Cross-validation (and averaging the results) ensures the model is validated on diverse subsets, giving a more realistic sense of its ability to generalize.\n",
        "\n",
        "### 4. **More Reliable Comparison Between Models**\n",
        "   When comparing different models, using averaged performance metrics across multiple splits allows for a fairer and more reliable comparison, as the impact of any single split's idiosyncrasies is minimized.\n",
        "\n",
        "Thus, averaging validation accuracy over multiple splits can provide a more consistent, stable, and trustworthy assessment of your model’s performance."
      ],
      "metadata": {
        "id": "0h-JoA1VNuNO"
      }
    },
    {
      "cell_type": "markdown",
      "source": [
        "2A.\n",
        "Yes, averaging validation accuracy across multiple splits (e.g., using cross-validation) typically gives a more accurate estimate of test accuracy compared to using a single train-test split. This is because cross-validation provides a better assessment of how well your model is likely to generalize to unseen data. Here's why:\n",
        "\n",
        "### 1. **Accounts for Dataset Variability**\n",
        "   In any single split, some data points may be easier or harder for the model to predict, and the test set might not represent the full diversity of the data. Cross-validation uses multiple train-test splits, ensuring that every data point is tested at least once, which reduces the risk that the performance on any single test set is misleading.\n",
        "\n",
        "### 2. **Less Dependent on Random Split**\n",
        "   A single test split could randomly be too easy or too difficult, giving you an overly optimistic or pessimistic estimate of test accuracy. Cross-validation reduces this randomness by averaging performance over multiple splits, resulting in a more reliable and accurate estimate of how the model will perform on new data.\n",
        "\n",
        "### 3. **Generalization Performance**\n",
        "   Cross-validation gives a more robust view of the model’s ability to generalize to new data. Since the model is trained and evaluated on different portions of the data, the averaged accuracy reflects a more realistic expectation of its performance on a true test set.\n",
        "\n",
        "### 4. **Mitigates Overfitting**\n",
        "   By testing on different subsets of the data and averaging the results, cross-validation helps reduce overfitting to specific test splits. This means the resulting accuracy estimate is less likely to be inflated due to overfitting to one specific set of data.\n",
        "\n",
        "In short, averaging validation accuracy across multiple splits provides a more accurate and reliable estimate of the model's performance on unseen data, which closely approximates how the model will perform on the actual test set."
      ],
      "metadata": {
        "id": "L4wkdxUtOdZ_"
      }
    },
    {
      "cell_type": "markdown",
      "source": [
        "3A.\n",
        "The number of iterations (or folds) in cross-validation affects the quality and stability of the estimate of test accuracy. In general, **increasing the number of iterations (folds) tends to provide a better estimate**, but this improvement comes with trade-offs. Here's how the number of iterations impacts the estimate:\n",
        "\n",
        "### 1. **Accuracy of the Estimate**\n",
        "   - **Higher Iterations Provide More Reliable Estimates**: As you increase the number of iterations (e.g., moving from 5-fold to 10-fold cross-validation), each data point is tested in more diverse training-test split combinations. This leads to a more stable and accurate estimate of the model’s performance since the model is tested on a wider variety of data subsets.\n",
        "   - **Law of Large Numbers**: More iterations give you more samples of model performance (on different splits), which improves the consistency and reduces the variance of the accuracy estimate. This is analogous to the law of large numbers, where averaging over a larger number of samples yields a result closer to the true mean.\n",
        "\n",
        "### 2. **Variance of the Estimate**\n",
        "   - **Lower Variance with More Iterations**: When the number of iterations is higher, the model is exposed to more variability in the data, leading to lower variance in the performance estimate. The effect of any particular train-test split is diminished when more splits are averaged together, leading to a more consistent and less fluctuating result.\n",
        "   - **Fewer Iterations Can Lead to High Variance**: With fewer iterations (e.g., 3-fold or even a single train-test split), the estimate is highly dependent on the specific subsets of data chosen for training and testing, which can result in higher variance and a less stable estimate of performance.\n",
        "\n",
        "### 3. **Bias of the Estimate**\n",
        "   - **Higher Iterations May Slightly Reduce Bias**: In cross-validation, bias refers to the error introduced by how well the cross-validation process estimates the true generalization performance of the model. Using more iterations (like 10-fold) slightly reduces bias because the model is trained on a larger portion of the data in each iteration. In leave-one-out cross-validation (LOOCV), for example, each model is trained on almost all the data, which can give the lowest bias.\n",
        "\n",
        "   - **However, High Bias is Usually Not a Big Issue in Cross-Validation**: The bias reduction from increasing the number of iterations is often marginal unless you're using very small datasets where LOOCV might make a significant difference.\n",
        "\n",
        "### 4. **Computational Cost**\n",
        "   - **More Iterations Increase Computational Cost**: The primary trade-off for using more iterations is the increased computational time. For example, in 10-fold cross-validation, the model is trained and tested 10 times, which takes significantly longer than 5-fold cross-validation. If you increase the number of iterations, this can be computationally expensive, especially with large datasets or complex models.\n",
        "   - **Diminishing Returns**: Beyond a certain point (e.g., moving from 10 to 20 folds), the benefits of additional iterations in terms of improved accuracy estimation may be marginal, but the computational costs continue to rise.\n",
        "\n",
        "### Key Takeaways\n",
        "- **More iterations generally give a better estimate** by reducing the variance and slightly lowering the bias of the performance estimate.\n",
        "- **10-fold cross-validation** is a common choice because it balances accuracy and computational efficiency.\n",
        "- **Too few iterations (e.g., 3 or 5 folds)** may give unstable estimates with high variance.\n",
        "- **Too many iterations (e.g., LOOCV)** may not provide significant improvement in the estimate but can be computationally expensive.\n",
        "\n",
        "Therefore, while more iterations tend to give a better estimate of test accuracy, the improvement diminishes after a certain point, and it's important to balance this with the computational cost."
      ],
      "metadata": {
        "id": "xFa8UTMrOvw2"
      }
    },
    {
      "cell_type": "markdown",
      "source": [
        "4A.\n",
        "Increasing the number of iterations in cross-validation can help when dealing with very small datasets, but it is not a perfect solution on its own. Here's how it can help and what the limitations are:\n",
        "\n",
        "### How Increasing Iterations Helps with Small Datasets\n",
        "\n",
        "1. **More Effective Use of Data**:\n",
        "   - With a very small dataset, each data point is valuable, and splitting it into training and validation sets can leave you with very limited data for training. By increasing the number of iterations (e.g., using **k-fold cross-validation** or even **leave-one-out cross-validation (LOOCV)**), you maximize the amount of data used for training in each iteration.\n",
        "   - In **LOOCV**, for example, each fold uses all but one data point for training, which ensures the model is trained on nearly the full dataset for each iteration. This helps make the most out of a small dataset.\n",
        "\n",
        "2. **More Stable Performance Estimates**:\n",
        "   - When the dataset is small, results from a single train-test split can vary widely due to the small sample size, making performance estimates unreliable. Increasing the number of iterations reduces the variance of these estimates by averaging the results across more splits, which can lead to a more consistent performance measure.\n",
        "   \n",
        "### Limitations of Increasing Iterations with Small Datasets\n",
        "\n",
        "1. **Overfitting Risk Remains**:\n",
        "   - With small datasets, increasing the number of iterations alone does not fully eliminate the risk of overfitting. Even though you're using most of the data in each iteration, the model may still overfit to the small training sets, especially if the model is complex. Overfitting occurs when the model memorizes the small training data rather than learning generalizable patterns.\n",
        "   \n",
        "2. **Bias in LOOCV and Small Datasets**:\n",
        "   - In **LOOCV**, the model is trained on all but one data point, which can result in lower bias (since almost all the data is used for training), but this also makes LOOCV particularly prone to **high variance** in small datasets. Each fold in LOOCV is trained on nearly the same data, which can lead to noisy predictions when just a single point is left out.\n",
        "   - As a result, while LOOCV might seem ideal for small datasets, it often produces highly variable estimates of test accuracy, especially when the model is prone to overfitting.\n",
        "\n",
        "3. **Lack of Representation in Small Datasets**:\n",
        "   - Even with more iterations, a small dataset may simply not represent the underlying data distribution well enough. If the dataset is not diverse or representative of the problem you're trying to solve, increasing the number of iterations in cross-validation won't make up for the lack of data.\n",
        "   \n",
        "4. **Computational Cost**:\n",
        "   - For small datasets, **LOOCV** or using a very high number of iterations can be computationally inefficient. While this is less of a concern with small datasets, the trade-off between the computational cost and the marginal gain in performance estimates should still be considered.\n",
        "\n",
        "### Potential Solutions for Small Datasets Beyond More Iterations\n",
        "\n",
        "1. **Data Augmentation**:\n",
        "   - For small datasets, augmenting the data (especially in fields like image classification) can artificially increase the amount of training data. This helps reduce overfitting and improves the model’s ability to generalize, even without needing more iterations in cross-validation.\n",
        "\n",
        "2. **Simpler Models**:\n",
        "   - Using a simpler model with fewer parameters can help prevent overfitting when working with small datasets. A simple model is less likely to memorize the data and can generalize better even with limited training data.\n",
        "\n",
        "3. **Regularization**:\n",
        "   - Adding regularization techniques like L2 regularization or dropout (in neural networks) can help prevent overfitting by discouraging the model from relying too heavily on any particular set of data points. This allows the model to learn more general patterns.\n",
        "\n",
        "4. **Bootstrapping**:\n",
        "   - Instead of cross-validation, **bootstrapping** is another resampling technique that can help with small datasets. It involves randomly sampling (with replacement) from the dataset to create many training sets, which can be used to estimate model performance.\n",
        "\n",
        "### Conclusion\n",
        "\n",
        "Increasing the number of iterations (such as in k-fold cross-validation or LOOCV) can help deal with small datasets by making better use of the available data and providing more stable performance estimates. However, it is not a complete solution. Overfitting remains a concern, and the dataset may still lack sufficient information to provide meaningful generalizations. Combining increased iterations with techniques like data augmentation, simpler models, regularization, or bootstrapping can better address the challenges posed by small datasets."
      ],
      "metadata": {
        "id": "_RIWLIWKPM2C"
      }
    },
    {
      "cell_type": "markdown",
      "metadata": {
        "id": "z-SBxy1qevgJ"
      },
      "source": [
        "> Exercise: How does the accuracy of the 3 nearest neighbour classifier change with the number of splits? How is it affected by the split size? Compare the results with the 1 nearest neighbour classifier."
      ]
    }
  ],
  "metadata": {
    "colab": {
      "provenance": [],
      "include_colab_link": true
    },
    "kernelspec": {
      "display_name": "Python 3",
      "name": "python3"
    },
    "language_info": {
      "codemirror_mode": {
        "name": "ipython",
        "version": 3
      },
      "file_extension": ".py",
      "mimetype": "text/x-python",
      "name": "python",
      "nbconvert_exporter": "python",
      "pygments_lexer": "ipython3",
      "version": "3.10.10"
    }
  },
  "nbformat": 4,
  "nbformat_minor": 0
}